{
 "cells": [
  {
   "cell_type": "markdown",
   "id": "8951d5f5",
   "metadata": {
    "id": "8951d5f5"
   },
   "source": [
    "# Machine Learning Letter Recognize "
   ]
  },
  {
   "cell_type": "code",
   "execution_count": 54,
   "id": "80e3964a",
   "metadata": {
    "code_folding": [],
    "id": "80e3964a"
   },
   "outputs": [],
   "source": [
    "# Dependencies\n",
    "import numpy as np\n",
    "import pandas as pd\n",
    "import matplotlib.pyplot as plt\n",
    "from sklearn.metrics import accuracy_score\n",
    "from sklearn.linear_model import LogisticRegression\n",
    "from sklearn.metrics import roc_auc_score\n",
    "from sklearn.tree import DecisionTreeClassifier\n",
    "from sklearn.model_selection import cross_val_score\n",
    "from sklearn.ensemble import RandomForestClassifier\n",
    "from sklearn.discriminant_analysis import LinearDiscriminantAnalysis\n",
    "from sklearn.ensemble import GradientBoostingClassifier"
   ]
  },
  {
   "cell_type": "code",
   "execution_count": 33,
   "id": "1267ae20",
   "metadata": {
    "code_folding": [],
    "id": "1267ae20"
   },
   "outputs": [],
   "source": [
    "# Load in data\n",
    "train_data = pd.read_csv(\"Letters_train_2024.csv\")\n",
    "test_data = pd.read_csv(\"Letters_test_2024.csv\")"
   ]
  },
  {
   "cell_type": "markdown",
   "id": "86d6a9df",
   "metadata": {
    "id": "86d6a9df"
   },
   "source": [
    "# Question 1 "
   ]
  },
  {
   "cell_type": "code",
   "execution_count": 34,
   "id": "73e377b6",
   "metadata": {
    "code_folding": [],
    "id": "73e377b6"
   },
   "outputs": [],
   "source": [
    "# Create new variable \n",
    "train_data['isB'] = np.where(train_data['letter'] == 'B', 'Yes', 'No')\n",
    "test_data['isB'] = np.where(test_data['letter'] == 'B', 'Yes', 'No')"
   ]
  },
  {
   "cell_type": "code",
   "execution_count": 35,
   "id": "039a5cd0",
   "metadata": {
    "code_folding": [],
    "id": "039a5cd0"
   },
   "outputs": [
    {
     "name": "stdout",
     "output_type": "stream",
     "text": [
      "   xbox  ybox  width  height  onpix  xbar  ybar  x2bar  y2bar  xybar  x2ybar  \\\n",
      "0     6     9      6       4      4     5     8      3      6      7       4   \n",
      "1     5    10      6       6      3     6    13      9      3      7       2   \n",
      "2     2     2      3       4      3     7     7      5      6      7       6   \n",
      "3     4     4      5       7      4     7     6      9      7      6       6   \n",
      "4     4    10      3       8      7     7     6      9      6      7       7   \n",
      "\n",
      "   xy2bar  xedge  xedgeycor  yedge  yedgexcor  \n",
      "0      10      5          7      5          7  \n",
      "1       9      3          7      5         10  \n",
      "2       7      3          7      5          8  \n",
      "3       7      2          7      9         10  \n",
      "4       7      2          9      8         10  \n",
      "0     No\n",
      "1     No\n",
      "2     No\n",
      "3    Yes\n",
      "4    Yes\n",
      "Name: isB, dtype: object\n"
     ]
    }
   ],
   "source": [
    "# Split into X and y\n",
    "X_train = train_data.drop(columns=['Unnamed: 0', 'letter', 'isB'])\n",
    "y_train = train_data['isB']\n",
    "\n",
    "X_test = test_data.drop(columns=['Unnamed: 0', 'letter', 'isB'])\n",
    "y_test = test_data['isB']\n",
    "print(X_train.head())\n",
    "print(y_train.head())"
   ]
  },
  {
   "cell_type": "markdown",
   "id": "a7c2e726",
   "metadata": {
    "id": "a7c2e726"
   },
   "source": [
    "### Part A: Baseline Model "
   ]
  },
  {
   "cell_type": "code",
   "execution_count": 36,
   "id": "a5a6931e",
   "metadata": {
    "code_folding": [
     0
    ],
    "id": "a5a6931e"
   },
   "outputs": [
    {
     "name": "stdout",
     "output_type": "stream",
     "text": [
      "Baseline Test Accuracy: 0.7540\n"
     ]
    }
   ],
   "source": [
    "# Q1A code\n",
    "most_common_label = y_train.value_counts().idxmax()\n",
    "baseline_predictions = [most_common_label] * len(y_test)\n",
    "# The most common label\n",
    "baseline_1_acc = accuracy_score(y_test, baseline_predictions)\n",
    "print(f'Baseline Test Accuracy: {baseline_1_acc:.4f}')"
   ]
  },
  {
   "cell_type": "markdown",
   "id": "eb0f7dca",
   "metadata": {
    "id": "eb0f7dca"
   },
   "source": [
    "### Part B: Logistic Regression "
   ]
  },
  {
   "cell_type": "code",
   "execution_count": 37,
   "id": "7fba5965",
   "metadata": {
    "code_folding": [
     0
    ],
    "id": "7fba5965"
   },
   "outputs": [
    {
     "name": "stdout",
     "output_type": "stream",
     "text": [
      "Logistic Regression Test Accuracy: 0.9369\n"
     ]
    }
   ],
   "source": [
    "# Create and train model, then make predictions, then calculate accuracy\n",
    "# Create logistic regression model\n",
    "log_reg_model = LogisticRegression(random_state=2024, max_iter=1000)\n",
    "\n",
    "# Train the model\n",
    "log_reg_model.fit(X_train, y_train)\n",
    "\n",
    "# Make predictions (using a threshold of 0.5)\n",
    "y_pred_prob = log_reg_model.predict_proba(X_test)[:, 1]  # Get the probability of 'Yes'\n",
    "y_pred = np.where(y_pred_prob >= 0.5, 'Yes', 'No')\n",
    "\n",
    "# Calculate accuracy\n",
    "model_1b_acc = accuracy_score(y_test, y_pred)\n",
    "print(f'Logistic Regression Test Accuracy: {model_1b_acc:.4f}')"
   ]
  },
  {
   "cell_type": "markdown",
   "id": "7495157d",
   "metadata": {
    "id": "7495157d"
   },
   "source": [
    "### Part C: AUC "
   ]
  },
  {
   "cell_type": "code",
   "execution_count": 38,
   "id": "94594df9",
   "metadata": {
    "code_folding": [
     0
    ],
    "id": "94594df9"
   },
   "outputs": [
    {
     "name": "stdout",
     "output_type": "stream",
     "text": [
      "Logistic Regression Test AUC: 0.9791\n"
     ]
    }
   ],
   "source": [
    "# Q1C code\n",
    "# Calculate AUC\n",
    "model_1b_auc = roc_auc_score(y_test, y_pred_prob)\n",
    "print(f'Logistic Regression Test AUC: {model_1b_auc:.4f}')"
   ]
  },
  {
   "cell_type": "markdown",
   "id": "ba75df07",
   "metadata": {
    "id": "ba75df07"
   },
   "source": [
    "### Part D: Cross-validated CART "
   ]
  },
  {
   "cell_type": "markdown",
   "id": "a6132e51",
   "metadata": {
    "id": "a6132e51"
   },
   "source": [
    "Cross-validation is performed for each ccp_alpha to identify the value that results in the highest accuracy on the training data, and a 5-fold cross-validation is used. Selection of ccp_alpha is based on maximizing the cross-validated accuracy; The value that results in the highest cross-validated accuracy is selected to train the final model."
   ]
  },
  {
   "cell_type": "code",
   "execution_count": 39,
   "id": "dee59e95",
   "metadata": {
    "code_folding": [
     0
    ],
    "id": "dee59e95"
   },
   "outputs": [
    {
     "name": "stdout",
     "output_type": "stream",
     "text": [
      "CV CART Test Accuracy: 0.9455\n",
      "Best ccp_alpha: 0.0013\n"
     ]
    }
   ],
   "source": [
    "# Q1D Code\n",
    "# Create a base decision tree classifier\n",
    "cart_model = DecisionTreeClassifier(random_state=2024)\n",
    "\n",
    "# Train the model to get the possible ccp_alphas\n",
    "cart_model.fit(X_train, y_train)\n",
    "path = cart_model.cost_complexity_pruning_path(X_train, y_train)\n",
    "ccp_alphas = path.ccp_alphas\n",
    "\n",
    "# Perform cross-validation for each ccp_alpha\n",
    "cv_scores = []\n",
    "for alpha in ccp_alphas:\n",
    "    temp_model = DecisionTreeClassifier(random_state=2024, ccp_alpha=alpha)\n",
    "    scores = cross_val_score(temp_model, X_train, y_train, cv=5, scoring='accuracy')\n",
    "    cv_scores.append(scores.mean())\n",
    "\n",
    "# Get the best ccp_alpha and the corresponding accuracy\n",
    "best_ccp_alpha_index = np.argmax(cv_scores)\n",
    "best_ccp_alpha = ccp_alphas[best_ccp_alpha_index]\n",
    "\n",
    "# Train the final CART model using the best ccp_alpha\n",
    "final_cart_model = DecisionTreeClassifier(random_state=2024, ccp_alpha=best_ccp_alpha)\n",
    "final_cart_model.fit(X_train, y_train)\n",
    "# Make predictions on the test set\n",
    "y_pred = final_cart_model.predict(X_test)\n",
    "\n",
    "model_1d_acc = accuracy_score(y_test, y_pred)\n",
    "model_1d_best_ccp_alpha = best_ccp_alpha\n",
    "print(f'CV CART Test Accuracy: {model_1d_acc:.4f}')\n",
    "print(f'Best ccp_alpha: {model_1d_best_ccp_alpha:.4f}')"
   ]
  },
  {
   "cell_type": "markdown",
   "id": "f65edd8a",
   "metadata": {
    "id": "f65edd8a"
   },
   "source": [
    "### Part E: Random Forest \n"
   ]
  },
  {
   "cell_type": "code",
   "execution_count": 40,
   "id": "28f7acb2",
   "metadata": {
    "code_folding": [
     0
    ],
    "id": "28f7acb2"
   },
   "outputs": [
    {
     "name": "stdout",
     "output_type": "stream",
     "text": [
      "Random Forest Test Accuracy: 0.9754\n"
     ]
    }
   ],
   "source": [
    "# Q1E Code\n",
    "# Create Random Forest model with default parameters\n",
    "rf_model = RandomForestClassifier(random_state=2024)\n",
    "# Train the model\n",
    "rf_model.fit(X_train, y_train)\n",
    "# Make predictions on the test set\n",
    "y_pred = rf_model.predict(X_test)\n",
    "\n",
    "model_1e_acc = accuracy_score(y_test, y_pred)\n",
    "print(f'Random Forest Test Accuracy: {model_1e_acc:.4f}')"
   ]
  },
  {
   "cell_type": "markdown",
   "id": "53648a60",
   "metadata": {
    "id": "53648a60"
   },
   "source": [
    "### Part F: Performance Comparison "
   ]
  },
  {
   "cell_type": "markdown",
   "id": "e74bfd25",
   "metadata": {
    "id": "e74bfd25"
   },
   "source": [
    "Based on the text accuracy, Random Forest model achieves the highest accuracy of 0.975, so it performs best on the test set. In this case, since we are dealing with letter recognition, accuracy might be more important, as the goal is to correctly recognize the letter."
   ]
  },
  {
   "cell_type": "code",
   "execution_count": 41,
   "id": "0015fa9c",
   "metadata": {
    "code_folding": [],
    "id": "0015fa9c"
   },
   "outputs": [
    {
     "name": "stdout",
     "output_type": "stream",
     "text": [
      "                 Model  Test Accuracy\n",
      "0  Logistic Regression       0.936898\n",
      "1                 CART       0.945455\n",
      "2        Random Forest       0.975401\n"
     ]
    }
   ],
   "source": [
    "# Q1F Code\n",
    "# Create df to compare performance\n",
    "performance_data = {\n",
    "    'Model': ['Logistic Regression', 'CART', 'Random Forest'],\n",
    "    'Test Accuracy': [model_1b_acc, model_1d_acc, model_1e_acc]\n",
    "}\n",
    "\n",
    "# Create DataFrame to compare performance\n",
    "performance_df = pd.DataFrame(performance_data)\n",
    "# Print the performance comparison DataFrame\n",
    "print(performance_df)"
   ]
  },
  {
   "cell_type": "markdown",
   "id": "e4307762",
   "metadata": {
    "id": "e4307762"
   },
   "source": [
    "***\n",
    "# Question 2 "
   ]
  },
  {
   "cell_type": "code",
   "execution_count": 47,
   "id": "0dd917ee",
   "metadata": {
    "code_folding": [],
    "id": "0dd917ee"
   },
   "outputs": [
    {
     "name": "stdout",
     "output_type": "stream",
     "text": [
      "0    R\n",
      "1    R\n",
      "2    R\n",
      "3    B\n",
      "4    B\n",
      "Name: letter, dtype: object\n",
      "0    B\n",
      "1    P\n",
      "2    A\n",
      "3    B\n",
      "4    P\n",
      "Name: letter, dtype: object\n"
     ]
    }
   ],
   "source": [
    "# Redefine target y\n",
    "y_train = train_data['letter']\n",
    "y_test = test_data['letter']\n",
    "print(y_train.head())\n",
    "print(y_test.head())"
   ]
  },
  {
   "cell_type": "markdown",
   "id": "e2553f29",
   "metadata": {
    "id": "e2553f29"
   },
   "source": [
    "### Part A: Baseline Model "
   ]
  },
  {
   "cell_type": "code",
   "execution_count": 48,
   "id": "3d84b11f",
   "metadata": {
    "code_folding": [
     0
    ],
    "id": "3d84b11f"
   },
   "outputs": [
    {
     "name": "stdout",
     "output_type": "stream",
     "text": [
      "Baseline Test Accuracy: 0.2610\n"
     ]
    }
   ],
   "source": [
    "# Q2A\n",
    "most_common_label = y_train.value_counts().idxmax()\n",
    "# Baseline prediction \n",
    "baseline_predictions = [most_common_label] * len(y_test)\n",
    "\n",
    "baseline_2_acc = accuracy_score(y_test, baseline_predictions)\n",
    "print(f'Baseline Test Accuracy: {baseline_2_acc:.4f}')"
   ]
  },
  {
   "cell_type": "markdown",
   "id": "555f682d",
   "metadata": {
    "id": "555f682d"
   },
   "source": [
    "### Part B: LDA "
   ]
  },
  {
   "cell_type": "code",
   "execution_count": 50,
   "id": "8860299d",
   "metadata": {
    "code_folding": [
     0
    ],
    "id": "8860299d"
   },
   "outputs": [
    {
     "name": "stdout",
     "output_type": "stream",
     "text": [
      "LDA Test Accuracy: 0.9209\n"
     ]
    }
   ],
   "source": [
    "# Q2B code\n",
    "# Create the LDA model\n",
    "lda_model = LinearDiscriminantAnalysis()\n",
    "# Train the LDA model\n",
    "lda_model.fit(X_train, y_train)\n",
    "# Make predictions on the test set\n",
    "y_pred = lda_model.predict(X_test)\n",
    "\n",
    "model_2b_acc = accuracy_score(y_test, y_pred)\n",
    "print(f'LDA Test Accuracy: {model_2b_acc:.4f}')"
   ]
  },
  {
   "cell_type": "markdown",
   "id": "3c75cc6e",
   "metadata": {
    "id": "3c75cc6e"
   },
   "source": [
    "### Part C: Cross-validated CART ("
   ]
  },
  {
   "cell_type": "markdown",
   "id": "4c6ea41e-1801-4b8e-b20e-473ce31c332b",
   "metadata": {},
   "source": [
    "* We used 5-fold cross-validation on each candidate value for ccp_alpha to determine which value provides the best average performance on the training set. The ccp_alpha value with the highest cross-validation accuracy was selected to build the final model. The test set accuracy of my CART model is 0.9091."
   ]
  },
  {
   "cell_type": "code",
   "execution_count": 51,
   "id": "80208cc3",
   "metadata": {
    "code_folding": [
     0
    ],
    "id": "80208cc3"
   },
   "outputs": [
    {
     "name": "stdout",
     "output_type": "stream",
     "text": [
      "Best ccp_alpha: 0.0006\n",
      "CART Test Accuracy: 0.9091\n"
     ]
    }
   ],
   "source": [
    "# Q2C Code\n",
    "# Create a base decision tree classifier\n",
    "cart_model = DecisionTreeClassifier(random_state=2024)\n",
    "\n",
    "# Train the model to get the possible ccp_alphas for pruning\n",
    "cart_model.fit(X_train, y_train)\n",
    "path = cart_model.cost_complexity_pruning_path(X_train, y_train)\n",
    "ccp_alphas = path.ccp_alphas\n",
    "\n",
    "# Perform cross-validation for each ccp_alpha to find the optimal value\n",
    "cv_scores = []\n",
    "for alpha in ccp_alphas:\n",
    "    temp_model = DecisionTreeClassifier(random_state=2024, ccp_alpha=alpha)\n",
    "    scores = cross_val_score(temp_model, X_train, y_train, cv=5, scoring='accuracy')\n",
    "    cv_scores.append(scores.mean())\n",
    "\n",
    "# Get the best ccp_alpha based on cross-validation accuracy\n",
    "best_ccp_alpha_index = np.argmax(cv_scores)\n",
    "model_2c_best_ccp_alpha = ccp_alphas[best_ccp_alpha_index]\n",
    "\n",
    "# Train the final CART model using the best ccp_alpha value\n",
    "final_cart_model = DecisionTreeClassifier(random_state=2024, ccp_alpha=model_2c_best_ccp_alpha)\n",
    "final_cart_model.fit(X_train, y_train)\n",
    "\n",
    "# Make predictions on the test set\n",
    "y_pred = final_cart_model.predict(X_test)\n",
    "\n",
    "\n",
    "model_2c_acc = accuracy_score(y_test, y_pred)\n",
    "print(f'Best ccp_alpha: {model_2c_best_ccp_alpha:.4f}')\n",
    "print(f'CART Test Accuracy: {model_2c_acc:.4f}')"
   ]
  },
  {
   "cell_type": "markdown",
   "id": "1a31acb6",
   "metadata": {
    "id": "1a31acb6"
   },
   "source": [
    "### Part D: Vanilla Bagging (8 points)"
   ]
  },
  {
   "cell_type": "code",
   "execution_count": 52,
   "id": "ce7d3724",
   "metadata": {
    "code_folding": [
     0
    ],
    "id": "ce7d3724"
   },
   "outputs": [
    {
     "name": "stdout",
     "output_type": "stream",
     "text": [
      "No CV Random Forest Test Accuracy: 0.9455\n"
     ]
    }
   ],
   "source": [
    "# Q2D\n",
    "# Create a RandomForestClassifier with max_features equal to the number of features (m = p)\n",
    "bagging_model = RandomForestClassifier(n_estimators=100, max_features=X_train.shape[1], random_state=2024)\n",
    "# Train the model\n",
    "bagging_model.fit(X_train, y_train)\n",
    "\n",
    "# Make predictions on the test set\n",
    "y_pred = bagging_model.predict(X_test)\n",
    "\n",
    "model_2d_acc = accuracy_score(y_test, y_pred)\n",
    "print(f'No CV Random Forest Test Accuracy: {model_2d_acc:.4f}')"
   ]
  },
  {
   "cell_type": "markdown",
   "id": "903d3365",
   "metadata": {
    "id": "903d3365"
   },
   "source": [
    "### Part E: Cross-validated Random Forest (10 points)"
   ]
  },
  {
   "cell_type": "markdown",
   "id": "9bcf5ae4-9675-4169-9283-7f2bf8beda02",
   "metadata": {},
   "source": [
    "* We performed 5-fold cross-validation for each value of max_features in our candidate list, and the average accuracy across the five folds was calculated for each value of max_features. Then, the max_features value with the highest cross-validation accuracy was selected. The CV Random Forest test accuracy is 0.9668."
   ]
  },
  {
   "cell_type": "code",
   "execution_count": 53,
   "id": "f2bae54c",
   "metadata": {
    "code_folding": [
     0
    ],
    "id": "f2bae54c"
   },
   "outputs": [
    {
     "name": "stdout",
     "output_type": "stream",
     "text": [
      "Max features are: 2\n",
      "CV Random Forest Test Accuracy: 0.9668\n"
     ]
    }
   ],
   "source": [
    "# Q2E\n",
    "# Define possible values for max_features\n",
    "max_features_options = ['sqrt', 'log2'] + list(range(1, X_train.shape[1] + 1))\n",
    "\n",
    "# Perform cross-validation for each max_features option\n",
    "cv_scores = []\n",
    "\n",
    "for max_features in max_features_options:\n",
    "    rf_model = RandomForestClassifier(n_estimators=100, max_features=max_features, random_state=2024)\n",
    "    scores = cross_val_score(rf_model, X_train, y_train, cv=5, scoring='accuracy')\n",
    "    cv_scores.append(scores.mean())\n",
    "\n",
    "# Select the best max_features value based on cross-validation accuracy\n",
    "best_max_features_index = np.argmax(cv_scores)\n",
    "best_max_features = max_features_options[best_max_features_index]\n",
    "best_cv_accuracy = cv_scores[best_max_features_index]\n",
    "\n",
    "# Train the final Random Forest model with the selected max_features value\n",
    "final_rf_model = RandomForestClassifier(n_estimators=100, max_features=best_max_features, random_state=2024)\n",
    "final_rf_model.fit(X_train, y_train)\n",
    "# Make predictions on the test set\n",
    "y_pred = final_rf_model.predict(X_test)\n",
    "\n",
    "model_2e_acc = accuracy_score(y_test, y_pred)\n",
    "print(f'Max features are: {best_max_features}')\n",
    "print(f'CV Random Forest Test Accuracy: {model_2e_acc:.4f}')"
   ]
  },
  {
   "cell_type": "markdown",
   "id": "1969e7f2",
   "metadata": {
    "id": "1969e7f2"
   },
   "source": [
    "### Part F: Gradient Boosting Classifier (9 points)"
   ]
  },
  {
   "cell_type": "code",
   "execution_count": 55,
   "id": "f9bd4e72",
   "metadata": {
    "code_folding": [
     0
    ],
    "id": "f9bd4e72"
   },
   "outputs": [
    {
     "name": "stdout",
     "output_type": "stream",
     "text": [
      "GBC Test Accuracy: 0.9722\n"
     ]
    }
   ],
   "source": [
    "# Q2F\n",
    "# Create the Gradient Boosting Classifier with specified parameters\n",
    "gbc_model = GradientBoostingClassifier(n_estimators=300, max_leaf_nodes=15, random_state=2024)\n",
    "gbc_model.fit(X_train, y_train)\n",
    "# Make predictions on the test set\n",
    "y_pred = gbc_model.predict(X_test)\n",
    "\n",
    "# Calculate the accuracy on the test set\n",
    "model_2f_acc = accuracy_score(y_test, y_pred)\n",
    "print(f'GBC Test Accuracy: {model_2f_acc:.4f}')"
   ]
  },
  {
   "cell_type": "code",
   "execution_count": null,
   "id": "1882bcbb",
   "metadata": {
    "id": "1882bcbb"
   },
   "outputs": [],
   "source": []
  }
 ],
 "metadata": {
  "colab": {
   "provenance": []
  },
  "kernelspec": {
   "display_name": "Python 3 (ipykernel)",
   "language": "python",
   "name": "python3"
  },
  "language_info": {
   "codemirror_mode": {
    "name": "ipython",
    "version": 3
   },
   "file_extension": ".py",
   "mimetype": "text/x-python",
   "name": "python",
   "nbconvert_exporter": "python",
   "pygments_lexer": "ipython3",
   "version": "3.11.11"
  }
 },
 "nbformat": 4,
 "nbformat_minor": 5
}
